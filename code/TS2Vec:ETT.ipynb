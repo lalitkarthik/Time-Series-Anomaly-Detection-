{
  "cells": [
    {
      "cell_type": "code",
      "execution_count": null,
      "metadata": {
        "id": "9BxC30RUXg9W"
      },
      "outputs": [],
      "source": [
        "!git clone https://github.com/zhihanyue/ts2vec.git"
      ]
    },
    {
      "cell_type": "code",
      "execution_count": null,
      "metadata": {
        "id": "ufsGtuqUXku2"
      },
      "outputs": [],
      "source": [
        "%cd ts2vec"
      ]
    },
    {
      "cell_type": "code",
      "execution_count": null,
      "metadata": {
        "id": "FflP7lL_Xm8r"
      },
      "outputs": [],
      "source": [
        "import zipfile\n",
        "import os\n",
        "\n",
        "zip_path = \"/content/ts2vec/datasets/yahoo.zip\"\n",
        "extract_path = \"/content/ts2vec/datasets\"\n",
        "\n",
        "# Create the extraction directory if it doesn't exist\n",
        "os.makedirs(extract_path, exist_ok=True)\n",
        "\n",
        "# Try extracting the ZIP file\n",
        "try:\n",
        "    with zipfile.ZipFile(zip_path, 'r') as zip_ref:\n",
        "        zip_ref.extractall(extract_path)\n",
        "    print(\"✅ Files extracted to:\", extract_path)\n",
        "except zipfile.BadZipFile:\n",
        "    print(\"❌ Error: The file is not a valid ZIP archive.\")\n",
        "except Exception as e:\n",
        "    print(f\"❌ Error: {e}\")\n",
        "\n"
      ]
    },
    {
      "cell_type": "code",
      "execution_count": null,
      "metadata": {
        "id": "Um0F_6gdYFF5"
      },
      "outputs": [],
      "source": [
        "# multivar\n",
        "!python -u train.py ETTh1 forecast_multivar --loader forecast_csv --repr-dims 320 --max-threads 8 --seed 42 --eval gpu 0\n",
        "!python -u train.py ETTh2 forecast_multivar --loader forecast_csv --repr-dims 320 --max-threads 8 --seed 42 --eval gpu 0\n",
        "!python -u train.py ETTm1 forecast_multivar --loader forecast_csv --repr-dims 320 --max-threads 8 --seed 42 --eval gpu 0\n",
        "\n",
        "# univar\n",
        "!python -u train.py ETTh1 forecast_univar --loader forecast_csv_univar --repr-dims 320 --max-threads 8 --seed 42 --eval gpu 0\n",
        "!python -u train.py ETTh2 forecast_univar --loader forecast_csv_univar --repr-dims 320 --max-threads 8 --seed 42 --eval gpu 0\n",
        "!python -u train.py ETTm1 forecast_univar --loader forecast_csv_univar --repr-dims 320 --max-threads 8 --seed 42 --eval gpu 0"
      ]
    }
  ],
  "metadata": {
    "colab": {
      "provenance": []
    },
    "kernelspec": {
      "display_name": "Python 3",
      "name": "python3"
    },
    "language_info": {
      "name": "python"
    }
  },
  "nbformat": 4,
  "nbformat_minor": 0
}
