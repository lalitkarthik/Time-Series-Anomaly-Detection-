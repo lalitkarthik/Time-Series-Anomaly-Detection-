{
 "cells": [
  {
   "cell_type": "code",
   "execution_count": null,
   "metadata": {
    "colab": {
     "base_uri": "https://localhost:8080/"
    },
    "id": "53LcEYlYB_mV",
    "outputId": "7c9ef590-ff9a-40ec-9d5a-c0b3a9cc52cd"
   },
   "outputs": [],
   "source": [
    "from google.colab import drive\n",
    "# Mount Google Drive to access files stored in your Drive\n",
    "drive.mount('/content/drive')"
   ]
  },
  {
   "cell_type": "code",
   "execution_count": null,
   "metadata": {
    "colab": {
     "base_uri": "https://localhost:8080/"
    },
    "id": "bxTa2Wt1BYl5",
    "outputId": "71b1c924-888a-4ee9-9ed0-fb5c60cad8bb"
   },
   "outputs": [],
   "source": [
    "# Clone the DCdetector repository from GitHub\n",
    "!git clone https://github.com/DAMO-DI-ML/KDD2023-DCdetector.git"
   ]
  },
  {
   "cell_type": "code",
   "execution_count": null,
   "metadata": {
    "colab": {
     "base_uri": "https://localhost:8080/"
    },
    "id": "gwPzGz9FBoE7",
    "outputId": "c988a861-70de-4312-b67e-9ead860dd4d1"
   },
   "outputs": [],
   "source": [
    "%cd KDD2023-DCdetector"
   ]
  },
  {
   "cell_type": "code",
   "execution_count": null,
   "metadata": {
    "colab": {
     "base_uri": "https://localhost:8080/"
    },
    "id": "MY006MWrB6dV",
    "outputId": "0a829825-3acf-4148-a3da-d6054cdf5c3e"
   },
   "outputs": [],
   "source": [
    "# Install required Python packages\n",
    "!pip install -r requirements.txt"
   ]
  },
  {
   "cell_type": "code",
   "execution_count": null,
   "metadata": {
    "id": "hwQFl29dCHes"
   },
   "outputs": [],
   "source": [
    "!mkdir -p dataset"
   ]
  },
  {
   "cell_type": "code",
   "execution_count": null,
   "metadata": {
    "id": "Uo9nKBHsF_O9"
   },
   "outputs": [],
   "source": [
    "!cp -r /content/drive/MyDrive/dataset/drive-download-20250302T094220Z-001.zip ./dataset/"
   ]
  },
  {
   "cell_type": "code",
   "execution_count": null,
   "metadata": {
    "colab": {
     "base_uri": "https://localhost:8080/"
    },
    "id": "SMAWaszPGW1n",
    "outputId": "f3abda6d-252a-4e5a-adb6-cbf49ee7dc70"
   },
   "outputs": [],
   "source": [
    "!unzip /content/KDD2023-DCdetector/dataset/drive-download-20250302T094220Z-001.zip -d dataset/"
   ]
  },
  {
   "cell_type": "code",
   "execution_count": null,
   "metadata": {
    "id": "Zdx-fOt7C-MC"
   },
   "outputs": [],
   "source": [
    "!mkdir result"
   ]
  },
  {
   "cell_type": "code",
   "execution_count": null,
   "metadata": {
    "colab": {
     "base_uri": "https://localhost:8080/"
    },
    "id": "uo7z_-puGsxD",
    "outputId": "acdd424a-09a0-4807-c3a2-efed79596b87"
   },
   "outputs": [],
   "source": [
    "# Install required Python packages\n",
    "!pip install tsfresh arch hurst"
   ]
  },
  {
   "cell_type": "code",
   "execution_count": null,
   "metadata": {
    "colab": {
     "base_uri": "https://localhost:8080/"
    },
    "id": "ihqowcfUGnGL",
    "outputId": "d98cda18-0bb3-47c0-cc13-c76039337d72"
   },
   "outputs": [],
   "source": [
    "!bash ./scripts/SMD.sh"
   ]
  },
  {
   "cell_type": "code",
   "execution_count": null,
   "metadata": {
    "colab": {
     "base_uri": "https://localhost:8080/"
    },
    "id": "y_zPlhNmImlS",
    "outputId": "2bc20264-a15b-4563-effd-a67c58e9b904"
   },
   "outputs": [],
   "source": [
    "!bash ./scripts/MSL.sh"
   ]
  },
  {
   "cell_type": "code",
   "execution_count": null,
   "metadata": {
    "colab": {
     "base_uri": "https://localhost:8080/"
    },
    "id": "V7Ie1MyZWrLz",
    "outputId": "792fe21a-7964-45a3-cb9e-dfd697beb232"
   },
   "outputs": [],
   "source": [
    "!bash ./scripts/SMAP.sh"
   ]
  },
  {
   "cell_type": "code",
   "execution_count": null,
   "metadata": {
    "colab": {
     "base_uri": "https://localhost:8080/"
    },
    "id": "Xxwzr2dEYYsm",
    "outputId": "fee7dc5e-491f-401a-a599-e9d4ab4bcdee"
   },
   "outputs": [],
   "source": [
    "!bash ./scripts/PSM.sh"
   ]
  },
  {
   "cell_type": "code",
   "execution_count": null,
   "metadata": {
    "colab": {
     "background_save": true,
     "base_uri": "https://localhost:8080/"
    },
    "id": "gI-7xoSrYag4",
    "outputId": "fecabe12-7fea-4ee3-9f69-0458b93ec112"
   },
   "outputs": [],
   "source": [
    "!bash ./scripts/SWAT.sh"
   ]
  },
  {
   "cell_type": "code",
   "execution_count": null,
   "metadata": {
    "colab": {
     "base_uri": "https://localhost:8080/"
    },
    "id": "yqX5Jv65Ybv_",
    "outputId": "e6e35f02-d8fa-4fdf-e4f4-363e142ab0b3"
   },
   "outputs": [],
   "source": [
    "!bash ./scripts/NIPS_TS_Swan.sh"
   ]
  },
  {
   "cell_type": "code",
   "execution_count": null,
   "metadata": {
    "colab": {
     "background_save": true,
     "base_uri": "https://localhost:8080/"
    },
    "id": "ydwuTDVMYc3e",
    "outputId": "63315c7f-7ffa-4c66-8fc2-476727a0112f"
   },
   "outputs": [],
   "source": [
    "!bash ./scripts/NIPS_TS_Water.sh"
   ]
  },
  {
   "cell_type": "code",
   "execution_count": null,
   "metadata": {
    "colab": {
     "base_uri": "https://localhost:8080/"
    },
    "id": "PUoes3djYebh",
    "outputId": "052faf35-fecb-44c7-cafc-aa3238362b22"
   },
   "outputs": [],
   "source": [
    "!bash ./scripts/UCR.sh"
   ]
  },
  {
   "cell_type": "code",
   "execution_count": null,
   "metadata": {
    "id": "hkWILSGlYgle"
   },
   "outputs": [],
   "source": [
    "!bash ./scripts/SMD.sh"
   ]
  },
  {
   "cell_type": "code",
   "execution_count": null,
   "metadata": {
    "id": "SufRzynbYhgQ"
   },
   "outputs": [],
   "source": []
  }
 ],
 "metadata": {
  "accelerator": "GPU",
  "colab": {
   "gpuType": "T4",
   "provenance": []
  },
  "kernelspec": {
   "display_name": "Python 3",
   "name": "python3"
  },
  "language_info": {
   "name": "python"
  }
 },
 "nbformat": 4,
 "nbformat_minor": 0
}
