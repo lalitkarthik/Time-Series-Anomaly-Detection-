{
  "nbformat": 4,
  "nbformat_minor": 0,
  "metadata": {
    "colab": {
      "provenance": []
    },
    "kernelspec": {
      "name": "python3",
      "display_name": "Python 3"
    },
    "language_info": {
      "name": "python"
    }
  },
  "cells": [
    {
      "cell_type": "code",
      "execution_count": null,
      "metadata": {
        "id": "9BxC30RUXg9W"
      },
      "outputs": [],
      "source": [
        "!git clone https://github.com/zhihanyue/ts2vec.git"
      ]
    },
    {
      "cell_type": "code",
      "source": [
        "%cd ts2vec"
      ],
      "metadata": {
        "id": "ufsGtuqUXku2"
      },
      "execution_count": null,
      "outputs": []
    },
    {
      "cell_type": "code",
      "source": [
        "import zipfile\n",
        "import os\n",
        "\n",
        "zip_path = \"/content/ts2vec/datasets/yahoo.zip\"\n",
        "extract_path = \"/content/ts2vec/datasets\"\n",
        "\n",
        "# Create the extraction directory if it doesn't exist\n",
        "os.makedirs(extract_path, exist_ok=True)\n",
        "\n",
        "# Try extracting the ZIP file\n",
        "try:\n",
        "    with zipfile.ZipFile(zip_path, 'r') as zip_ref:\n",
        "        zip_ref.extractall(extract_path)\n",
        "    print(\"✅ Files extracted to:\", extract_path)\n",
        "except zipfile.BadZipFile:\n",
        "    print(\"❌ Error: The file is not a valid ZIP archive.\")\n",
        "except Exception as e:\n",
        "    print(f\"❌ Error: {e}\")\n",
        "\n"
      ],
      "metadata": {
        "id": "FflP7lL_Xm8r"
      },
      "execution_count": null,
      "outputs": []
    },
    {
      "cell_type": "code",
      "source": [
        "!python -u train.py yahoo anomaly_0 --loader anomaly --repr-dims 320 --max-threads 8 --seed 1 --eval --gpu 0\n",
        "!python -u train.py yahoo anomaly_1 --loader anomaly --repr-dims 320 --max-threads 8 --seed 2 --eval --gpu 0\n",
        "!python -u train.py yahoo anomaly_2 --loader anomaly --repr-dims 320 --max-threads 8 --seed 3 --eval --gpu 0"
      ],
      "metadata": {
        "id": "Um0F_6gdYFF5"
      },
      "execution_count": null,
      "outputs": []
    }
  ]
}